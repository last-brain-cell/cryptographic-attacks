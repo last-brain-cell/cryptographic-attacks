{
  "nbformat": 4,
  "nbformat_minor": 0,
  "metadata": {
    "colab": {
      "provenance": [],
      "authorship_tag": "ABX9TyOlZkoMaadEGkhEYLzVJWd2",
      "include_colab_link": true
    },
    "kernelspec": {
      "name": "python3",
      "display_name": "Python 3"
    },
    "language_info": {
      "name": "python"
    }
  },
  "cells": [
    {
      "cell_type": "markdown",
      "metadata": {
        "id": "view-in-github",
        "colab_type": "text"
      },
      "source": [
        "<a href=\"https://colab.research.google.com/github/last-brain-cell/cryptographic-attacks/blob/main/Chosen_Ciphertext_Attack_(on_RSA_style_Public_Key).ipynb\" target=\"_parent\"><img src=\"https://colab.research.google.com/assets/colab-badge.svg\" alt=\"Open In Colab\"/></a>"
      ]
    },
    {
      "cell_type": "markdown",
      "source": [
        "This demonstrates how a chosen ciphertext can reveal information about the plaintext using RSA properties."
      ],
      "metadata": {
        "id": "XA7cVVVAQrd9"
      }
    },
    {
      "cell_type": "code",
      "execution_count": 1,
      "metadata": {
        "collapsed": true,
        "colab": {
          "base_uri": "https://localhost:8080/"
        },
        "id": "kRnj7m9HQG-I",
        "outputId": "3c0bebdc-2dd4-496a-d51a-5ce320f6baa0"
      },
      "outputs": [
        {
          "output_type": "stream",
          "name": "stdout",
          "text": [
            "Collecting pycryptodome\n",
            "  Downloading pycryptodome-3.22.0-cp37-abi3-manylinux_2_17_x86_64.manylinux2014_x86_64.whl.metadata (3.4 kB)\n",
            "Downloading pycryptodome-3.22.0-cp37-abi3-manylinux_2_17_x86_64.manylinux2014_x86_64.whl (2.3 MB)\n",
            "\u001b[?25l   \u001b[90m━━━━━━━━━━━━━━━━━━━━━━━━━━━━━━━━━━━━━━━━\u001b[0m \u001b[32m0.0/2.3 MB\u001b[0m \u001b[31m?\u001b[0m eta \u001b[36m-:--:--\u001b[0m\r\u001b[2K   \u001b[91m━\u001b[0m\u001b[91m╸\u001b[0m\u001b[90m━━━━━━━━━━━━━━━━━━━━━━━━━━━━━━━━━━━━━━\u001b[0m \u001b[32m0.1/2.3 MB\u001b[0m \u001b[31m3.4 MB/s\u001b[0m eta \u001b[36m0:00:01\u001b[0m\r\u001b[2K   \u001b[91m━━━━━━━━━━━━━━━━\u001b[0m\u001b[90m╺\u001b[0m\u001b[90m━━━━━━━━━━━━━━━━━━━━━━━\u001b[0m \u001b[32m0.9/2.3 MB\u001b[0m \u001b[31m12.3 MB/s\u001b[0m eta \u001b[36m0:00:01\u001b[0m\r\u001b[2K   \u001b[91m━━━━━━━━━━━━━━━━━━━━━━━━━━━━━━━━━━━━━━━\u001b[0m\u001b[91m╸\u001b[0m \u001b[32m2.3/2.3 MB\u001b[0m \u001b[31m21.8 MB/s\u001b[0m eta \u001b[36m0:00:01\u001b[0m\r\u001b[2K   \u001b[90m━━━━━━━━━━━━━━━━━━━━━━━━━━━━━━━━━━━━━━━━\u001b[0m \u001b[32m2.3/2.3 MB\u001b[0m \u001b[31m16.1 MB/s\u001b[0m eta \u001b[36m0:00:00\u001b[0m\n",
            "\u001b[?25hInstalling collected packages: pycryptodome\n",
            "Successfully installed pycryptodome-3.22.0\n"
          ]
        }
      ],
      "source": [
        "!pip install pycryptodome"
      ]
    },
    {
      "cell_type": "code",
      "source": [
        "from Crypto.Util.number import getPrime, inverse, bytes_to_long, long_to_bytes\n",
        "from math import gcd\n",
        "\n",
        "# Retry until e is coprime with φ(n)\n",
        "def generate_rsa_keys(bits=8, e=3):\n",
        "    while True:\n",
        "        p = getPrime(bits)\n",
        "        q = getPrime(bits)\n",
        "        if p == q:\n",
        "            continue\n",
        "        phi = (p - 1) * (q - 1)\n",
        "        if gcd(e, phi) == 1:\n",
        "            n = p * q\n",
        "            d = inverse(e, phi)\n",
        "            return (e, n), (d, n), (p, q)\n",
        "\n",
        "# Generate RSA keys\n",
        "public_key, private_key, primes = generate_rsa_keys()\n",
        "e, n = public_key\n",
        "d, _ = private_key\n",
        "p, q = primes\n",
        "\n",
        "print(f\"Public key (e={e}, n={n})\")\n",
        "print(f\"Private key (d={d})\")\n",
        "print(f\"Primes used: p={p}, q={q}\")\n"
      ],
      "metadata": {
        "colab": {
          "base_uri": "https://localhost:8080/"
        },
        "id": "OzqpqnR3QNO5",
        "outputId": "2be771d8-dd59-41fb-d4f1-6cbd6eb6135c"
      },
      "execution_count": 3,
      "outputs": [
        {
          "output_type": "stream",
          "name": "stdout",
          "text": [
            "Public key (e=3, n=22879)\n",
            "Private key (d=15051)\n",
            "Primes used: p=167, q=137\n"
          ]
        }
      ]
    },
    {
      "cell_type": "code",
      "source": [
        "def encrypt_rsa(m, e, n):\n",
        "    return pow(m, e, n)\n",
        "\n",
        "def decrypt_rsa(c, d, n):\n",
        "    return pow(c, d, n)\n",
        "\n",
        "# Example message\n",
        "message = b\"OK\"\n",
        "m = bytes_to_long(message)\n",
        "c = encrypt_rsa(m, e, n)\n",
        "decrypted_m = decrypt_rsa(c, d, n)\n",
        "\n",
        "print(\"Original Message:\", message)\n",
        "print(\"Encrypted Ciphertext:\", c)\n",
        "print(\"Decrypted Message:\", long_to_bytes(decrypted_m))"
      ],
      "metadata": {
        "colab": {
          "base_uri": "https://localhost:8080/"
        },
        "id": "mubSFpcCQUFI",
        "outputId": "3660c87e-f8d6-4a8f-c2c2-e219433a801c"
      },
      "execution_count": 4,
      "outputs": [
        {
          "output_type": "stream",
          "name": "stdout",
          "text": [
            "Original Message: b'OK'\n",
            "Encrypted Ciphertext: 14496\n",
            "Decrypted Message: b'OK'\n"
          ]
        }
      ]
    },
    {
      "cell_type": "code",
      "source": [
        "# Attacker intercepts ciphertext c\n",
        "# Picks multiplier s\n",
        "s = 2\n",
        "c_prime = (pow(s, e, n) * c) % n  # Send c' to decrypt\n",
        "\n",
        "# Victim (oracle) decrypts\n",
        "m_prime = decrypt_rsa(c_prime, d, n)\n",
        "\n",
        "# Attacker recovers original m\n",
        "s_inv = inverse(s, n)\n",
        "recovered_m = (m_prime * s_inv) % n\n",
        "\n",
        "print(\"Recovered Message:\", long_to_bytes(recovered_m))"
      ],
      "metadata": {
        "colab": {
          "base_uri": "https://localhost:8080/"
        },
        "id": "bQ7diIztQgvE",
        "outputId": "2d236386-cb48-47ed-fe0b-a6816e278cf0"
      },
      "execution_count": 5,
      "outputs": [
        {
          "output_type": "stream",
          "name": "stdout",
          "text": [
            "Recovered Message: b'OK'\n"
          ]
        }
      ]
    }
  ]
}