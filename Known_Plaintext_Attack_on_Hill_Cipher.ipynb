{
  "nbformat": 4,
  "nbformat_minor": 0,
  "metadata": {
    "colab": {
      "provenance": [],
      "authorship_tag": "ABX9TyMoBYAdMSYJWjS4IFDih7Hg",
      "include_colab_link": true
    },
    "kernelspec": {
      "name": "python3",
      "display_name": "Python 3"
    },
    "language_info": {
      "name": "python"
    }
  },
  "cells": [
    {
      "cell_type": "markdown",
      "metadata": {
        "id": "view-in-github",
        "colab_type": "text"
      },
      "source": [
        "<a href=\"https://colab.research.google.com/github/last-brain-cell/cryptographic-attacks/blob/main/Known_Plaintext_Attack_on_Hill_Cipher.ipynb\" target=\"_parent\"><img src=\"https://colab.research.google.com/assets/colab-badge.svg\" alt=\"Open In Colab\"/></a>"
      ]
    },
    {
      "cell_type": "markdown",
      "source": [
        "The Hill Cipher is a classical symmetric cipher. If an attacker knows some plaintext and the corresponding ciphertext, they can recover the key."
      ],
      "metadata": {
        "id": "NfkOtZWkPElv"
      }
    },
    {
      "cell_type": "code",
      "execution_count": null,
      "metadata": {
        "id": "-os2KXc3Nx_C"
      },
      "outputs": [],
      "source": [
        "import numpy as np\n",
        "from sympy import Matrix\n",
        "\n",
        "def mod_inverse_matrix(matrix, modulus):\n",
        "    \"\"\"Returns the modular inverse of a matrix under a given modulus.\"\"\"\n",
        "    sympy_matrix = Matrix(matrix.tolist())\n",
        "    try:\n",
        "        inverse = sympy_matrix.inv_mod(modulus)\n",
        "        return np.array(inverse).astype(int)\n",
        "    except:\n",
        "        raise ValueError(\"Matrix is not invertible under modulus.\")\n",
        "\n",
        "def text_to_nums(text):\n",
        "    return [ord(char) - ord('A') for char in text.upper() if char.isalpha()]\n",
        "\n",
        "def nums_to_text(nums):\n",
        "    return ''.join(chr((num % 26) + ord('A')) for num in nums)\n"
      ]
    },
    {
      "cell_type": "code",
      "source": [
        "def encrypt_hill(plaintext, key_matrix):\n",
        "    nums = text_to_nums(plaintext)\n",
        "    if len(nums) % 2 != 0:\n",
        "        nums.append(0)  # pad\n",
        "    ciphertext = []\n",
        "\n",
        "    for i in range(0, len(nums), 2):\n",
        "        pair = np.array(nums[i:i+2])\n",
        "        cipher_pair = np.dot(key_matrix, pair) % 26\n",
        "        ciphertext.extend(cipher_pair)\n",
        "\n",
        "    return nums_to_text(ciphertext)\n",
        "\n",
        "# 2x2 invertible key\n",
        "key = np.array([[3, 3], [2, 5]])\n",
        "plaintext = \"HELP\"  # 4 letters = 2 pairs\n",
        "ciphertext = encrypt_hill(plaintext, key)\n",
        "\n",
        "print(\"Plaintext:\", plaintext)\n",
        "print(\"Ciphertext:\", ciphertext)"
      ],
      "metadata": {
        "colab": {
          "base_uri": "https://localhost:8080/"
        },
        "id": "9nB-izbPOAf0",
        "outputId": "25bfeb0f-aacd-4fc8-c2b6-e7b0ab7879ca"
      },
      "execution_count": null,
      "outputs": [
        {
          "output_type": "stream",
          "name": "stdout",
          "text": [
            "Plaintext: HELP\n",
            "Ciphertext: HIAT\n"
          ]
        }
      ]
    },
    {
      "cell_type": "code",
      "source": [
        "# Use 2 known plaintext-ciphertext pairs\n",
        "# plaintext: H E L P -> [7, 4, 11, 15]\n",
        "# ciphertext will be two 2-letter pairs\n",
        "\n",
        "P_nums = text_to_nums(plaintext)\n",
        "C_nums = text_to_nums(ciphertext)\n",
        "\n",
        "# Form 2x2 matrices\n",
        "P_matrix = np.array(P_nums).reshape(2, 2)\n",
        "C_matrix = np.array(C_nums).reshape(2, 2)\n",
        "\n",
        "# Recover Key: K = C × P⁻¹ mod 26\n",
        "P_inv = mod_inverse_matrix(P_matrix, 26)\n",
        "recovered_key = np.dot(C_matrix, P_inv) % 26\n",
        "\n",
        "print(\"Recovered Key:\\n\", recovered_key)\n",
        "print(\"Original Key:\\n\", key)"
      ],
      "metadata": {
        "colab": {
          "base_uri": "https://localhost:8080/"
        },
        "id": "M-kBbHmIODBc",
        "outputId": "67978cab-7788-42b0-eb18-eedd9e4db102"
      },
      "execution_count": null,
      "outputs": [
        {
          "output_type": "stream",
          "name": "stdout",
          "text": [
            "Recovered Key:\n",
            " [[25  6]\n",
            " [23  9]]\n",
            "Original Key:\n",
            " [[3 3]\n",
            " [2 5]]\n"
          ]
        }
      ]
    }
  ]
}