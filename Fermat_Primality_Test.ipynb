{
  "nbformat": 4,
  "nbformat_minor": 0,
  "metadata": {
    "colab": {
      "provenance": [],
      "authorship_tag": "ABX9TyNw/7848px+9KtrZImhrB9V",
      "include_colab_link": true
    },
    "kernelspec": {
      "name": "python3",
      "display_name": "Python 3"
    },
    "language_info": {
      "name": "python"
    }
  },
  "cells": [
    {
      "cell_type": "markdown",
      "metadata": {
        "id": "view-in-github",
        "colab_type": "text"
      },
      "source": [
        "<a href=\"https://colab.research.google.com/github/last-brain-cell/cryptographic-attacks/blob/main/Fermat_Primality_Test.ipynb\" target=\"_parent\"><img src=\"https://colab.research.google.com/assets/colab-badge.svg\" alt=\"Open In Colab\"/></a>"
      ]
    },
    {
      "cell_type": "markdown",
      "source": [
        "This probabilistic test checks if a number is likely prime."
      ],
      "metadata": {
        "id": "EKOVdXH9RBtz"
      }
    },
    {
      "cell_type": "code",
      "execution_count": 1,
      "metadata": {
        "id": "AvjNgBu1RAaP"
      },
      "outputs": [],
      "source": [
        "import random\n",
        "\n",
        "def fermat_primality_test(n, k=5):\n",
        "    if n in (2, 3):\n",
        "        return True\n",
        "    if n <= 1 or n % 2 == 0:\n",
        "        return False\n",
        "\n",
        "    for _ in range(k):\n",
        "        a = random.randint(2, n - 2)\n",
        "        if pow(a, n - 1, n) != 1:\n",
        "            return False  # composite\n",
        "    return True  # probably prime"
      ]
    },
    {
      "cell_type": "code",
      "source": [
        "test_numbers = [13, 15, 17, 21, 97, 561]  # 561 is a Carmichael number (Fermat liar)\n",
        "for num in test_numbers:\n",
        "    result = fermat_primality_test(num)\n",
        "    print(f\"{num} is {'probably prime' if result else 'composite'}\")"
      ],
      "metadata": {
        "id": "FhR20d1bREWP",
        "outputId": "d7022b71-5e15-47ba-a88f-5cc5646fdfce",
        "colab": {
          "base_uri": "https://localhost:8080/"
        }
      },
      "execution_count": 2,
      "outputs": [
        {
          "output_type": "stream",
          "name": "stdout",
          "text": [
            "13 is probably prime\n",
            "15 is composite\n",
            "17 is probably prime\n",
            "21 is composite\n",
            "97 is probably prime\n",
            "561 is composite\n"
          ]
        }
      ]
    }
  ]
}